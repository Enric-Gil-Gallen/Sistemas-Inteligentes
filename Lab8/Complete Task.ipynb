{
 "cells": [
  {
   "cell_type": "markdown",
   "metadata": {},
   "source": [
    "## Complete Manipulation Task\n",
    "\n",
    "Let's put everything together for the autonomous execution of the whole task."
   ]
  },
  {
   "cell_type": "markdown",
   "metadata": {},
   "source": [
    "**IMPORTANT**: before running the code below, please restart the simulation in Webots."
   ]
  },
  {
   "cell_type": "code",
   "execution_count": 1,
   "metadata": {},
   "outputs": [],
   "source": [
    "from Pioneer3.Controllers import PioneerRobot\n",
    "\n",
    "robot = PioneerRobot()"
   ]
  },
  {
   "cell_type": "markdown",
   "metadata": {},
   "source": [
    "### Helper functions"
   ]
  },
  {
   "cell_type": "code",
   "execution_count": 2,
   "metadata": {},
   "outputs": [],
   "source": [
    "import cv2\n",
    "import numpy\n",
    "\n",
    "def color_blob(image):\n",
    "    hsv = cv2.cvtColor(image, cv2.COLOR_RGB2HSV)\n",
    "    mask = cv2.inRange(hsv, lower, upper)\n",
    "    M = cv2.moments(mask)\n",
    "    area = M['m00']\n",
    "    if area > 0:\n",
    "        cx = int(M['m10']/area)\n",
    "        cy = int(M['m01']/area)\n",
    "    else:\n",
    "        cx = None\n",
    "        cy = None\n",
    "    return area, cx, cy"
   ]
  },
  {
   "cell_type": "code",
   "execution_count": 3,
   "metadata": {},
   "outputs": [],
   "source": [
    "def is_blob_centered(image):\n",
    "    area, cx, cy = color_blob(image)\n",
    "    if area > 0 and cx >= 70 and cx < 80:\n",
    "        return True\n",
    "    else:\n",
    "        return False"
   ]
  },
  {
   "cell_type": "code",
   "execution_count": 4,
   "metadata": {},
   "outputs": [],
   "source": [
    "def is_blob_close(image, vertical_threshold):\n",
    "    area, cx, cy = color_blob(image)\n",
    "    if area > 0 and cy >= vertical_threshold:\n",
    "        return True\n",
    "    else:\n",
    "        return False"
   ]
  },
  {
   "cell_type": "markdown",
   "metadata": {},
   "source": [
    "### Search ball\n",
    "\n",
    "Copy and paste the necessary code from previous notebooks for these subtasks:\n",
    "\n",
    "* locate ball\n",
    "* approach to the ball\n",
    "* pick the ball"
   ]
  },
  {
   "cell_type": "code",
   "execution_count": 5,
   "metadata": {},
   "outputs": [],
   "source": [
    "robot.gripper.open()\n",
    "robot.gripper.down()\n",
    "robot.kinect.setTiltPosition(-0.35)"
   ]
  },
  {
   "cell_type": "code",
   "execution_count": 6,
   "metadata": {},
   "outputs": [],
   "source": [
    "image = robot.kinect.getColorImage()"
   ]
  },
  {
   "cell_type": "code",
   "execution_count": 7,
   "metadata": {},
   "outputs": [],
   "source": [
    "import numpy\n",
    "lower = numpy.array([110, 100, 100])\n",
    "upper = numpy.array([130, 255, 255])"
   ]
  },
  {
   "cell_type": "code",
   "execution_count": 8,
   "metadata": {},
   "outputs": [],
   "source": [
    "robot.gripper.open()\n",
    "robot.gripper.down()"
   ]
  },
  {
   "cell_type": "code",
   "execution_count": 9,
   "metadata": {},
   "outputs": [],
   "source": [
    "while not is_blob_centered(image):\n",
    "    robot.setSpeed(-0.5,0.5)\n",
    "    image = robot.kinect.getColorImage()\n",
    "robot.stop()"
   ]
  },
  {
   "cell_type": "code",
   "execution_count": 10,
   "metadata": {},
   "outputs": [],
   "source": [
    "while not is_blob_close(image, 68):\n",
    "    robot.setSpeed(1.0,1.0)\n",
    "    image = robot.kinect.getColorImage()\n",
    "robot.stop()"
   ]
  },
  {
   "cell_type": "code",
   "execution_count": 11,
   "metadata": {},
   "outputs": [],
   "source": [
    "robot.kinect.setTiltPosition(-0.47)"
   ]
  },
  {
   "cell_type": "code",
   "execution_count": 12,
   "metadata": {},
   "outputs": [],
   "source": [
    "while not is_blob_close(image, 72):\n",
    "    robot.setSpeed(1.0,1.0)\n",
    "    image = robot.kinect.getColorImage()\n",
    "robot.stop()"
   ]
  },
  {
   "cell_type": "code",
   "execution_count": 13,
   "metadata": {},
   "outputs": [],
   "source": [
    "robot.gripper.close()"
   ]
  },
  {
   "cell_type": "code",
   "execution_count": 14,
   "metadata": {},
   "outputs": [],
   "source": [
    "robot.gripper.up()"
   ]
  },
  {
   "cell_type": "markdown",
   "metadata": {},
   "source": [
    "### Search target\n",
    "\n",
    "Same for the target:\n",
    "\n",
    "* locate target\n",
    "* approach to the target\n",
    "* release the ball"
   ]
  },
  {
   "cell_type": "code",
   "execution_count": 15,
   "metadata": {},
   "outputs": [],
   "source": [
    "lower = numpy.array([ 50, 100, 100])\n",
    "upper = numpy.array([ 70, 255, 255])"
   ]
  },
  {
   "cell_type": "code",
   "execution_count": 16,
   "metadata": {},
   "outputs": [],
   "source": [
    "robot.kinect.setTiltPosition(0.0)"
   ]
  },
  {
   "cell_type": "code",
   "execution_count": 17,
   "metadata": {},
   "outputs": [],
   "source": []
  },
  {
   "cell_type": "code",
   "execution_count": 18,
   "metadata": {},
   "outputs": [],
   "source": [
    "image = robot.kinect.getColorImage()"
   ]
  },
  {
   "cell_type": "code",
   "execution_count": 19,
   "metadata": {},
   "outputs": [],
   "source": [
    "while not is_blob_centered(image):\n",
    "    robot.setSpeed(-0.5,0.5)\n",
    "    image = robot.kinect.getColorImage()\n",
    "robot.stop()"
   ]
  },
  {
   "cell_type": "code",
   "execution_count": 20,
   "metadata": {},
   "outputs": [],
   "source": [
    "while not is_blob_close(image, 68):\n",
    "    robot.setSpeed(1.0,1.0)\n",
    "    image = robot.kinect.getColorImage()\n",
    "robot.stop()"
   ]
  },
  {
   "cell_type": "code",
   "execution_count": 21,
   "metadata": {},
   "outputs": [],
   "source": [
    "robot.kinect.setTiltPosition(-0.47)"
   ]
  },
  {
   "cell_type": "code",
   "execution_count": 22,
   "metadata": {},
   "outputs": [],
   "source": [
    "while not is_blob_close(image, 72):\n",
    "    robot.setSpeed(1.0,1.0)\n",
    "    image = robot.kinect.getColorImage()\n",
    "robot.stop()"
   ]
  },
  {
   "cell_type": "code",
   "execution_count": 23,
   "metadata": {},
   "outputs": [],
   "source": [
    "robot.gripper.down()"
   ]
  },
  {
   "cell_type": "code",
   "execution_count": 24,
   "metadata": {},
   "outputs": [],
   "source": [
    "robot.gripper.open()"
   ]
  },
  {
   "cell_type": "code",
   "execution_count": 25,
   "metadata": {},
   "outputs": [],
   "source": [
    "robot.setSpeed(-1.0,-1.0)\n",
    "import time\n",
    "time.sleep(3)\n",
    "robot.stop()"
   ]
  },
  {
   "cell_type": "markdown",
   "metadata": {},
   "source": [
    "If completed, congratulations! You have programmed an autonomous mobile manipulation task!"
   ]
  },
  {
   "cell_type": "markdown",
   "metadata": {},
   "source": [
    "---\n",
    "#### Try-a-Bot: an open source guide for robot programming\n",
    "Developed by:\n",
    "[![Robotic Intelligence Lab @ UJI](img/logo/robinlab.png \"Robotic Intelligence Lab @ UJI\")](http://robinlab.uji.es)\n",
    "\n",
    "Sponsored by:\n",
    "<table>\n",
    "<tr>\n",
    "<td style=\"border:1px solid #ffffff ;\">\n",
    "<a href=\"http://www.ieee-ras.org\"><img src=\"img/logo/ras.png\"></a>\n",
    "</td>\n",
    "<td style=\"border:1px solid #ffffff ;\">\n",
    "<a href=\"http://www.cyberbotics.com\"><img src=\"img/logo/cyberbotics.png\"></a>\n",
    "</td>\n",
    "<td style=\"border:1px solid #ffffff ;\">\n",
    "<a href=\"http://www.theconstructsim.com\"><img src=\"img/logo/theconstruct.png\"></a>\n",
    "</td>\n",
    "</tr>\n",
    "</table>\n",
    "\n",
    "Follow us:\n",
    "<table>\n",
    "<tr>\n",
    "<td style=\"border:1px solid #ffffff ;\">\n",
    "<a href=\"https://www.facebook.com/RobotProgrammingNetwork\"><img src=\"img/logo/facebook.png\"></a>\n",
    "</td>\n",
    "<td style=\"border:1px solid #ffffff ;\">\n",
    "<a href=\"https://www.youtube.com/user/robotprogrammingnet\"><img src=\"img/logo/youtube.png\"></a>\n",
    "</td>\n",
    "</tr>\n",
    "</table>"
   ]
  }
 ],
 "metadata": {
  "kernelspec": {
   "display_name": "Python 3",
   "language": "python",
   "name": "python3"
  },
  "language_info": {
   "codemirror_mode": {
    "name": "ipython",
    "version": 3
   },
   "file_extension": ".py",
   "mimetype": "text/x-python",
   "name": "python",
   "nbconvert_exporter": "python",
   "pygments_lexer": "ipython3",
   "version": "3.8.10"
  }
 },
 "nbformat": 4,
 "nbformat_minor": 1
}
