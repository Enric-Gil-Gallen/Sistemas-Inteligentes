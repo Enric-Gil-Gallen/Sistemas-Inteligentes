{
 "cells": [
  {
   "cell_type": "markdown",
   "metadata": {},
   "source": [
    "<img align=\"right\" src=\"../img/square_240.png\" />\n",
    "\n",
    "## Exercise: Square Test.\n",
    "\n",
    "You are going to make a program for describing a square trajectory with the robot.\n",
    "\n",
    "Instead of starting to code from scratch, you are going to reuse the code that you developed for the distance and turning exercises.\n"
   ]
  },
  {
   "cell_type": "markdown",
   "metadata": {},
   "source": [
    "### 1. Starting position\n",
    "For a better visual understanding of the task, it is recommended that the robot starts at the center of the room. \n",
    "\n",
    "You can easily relocate the robot there by simply restarting the simulation in Webots."
   ]
  },
  {
   "cell_type": "markdown",
   "metadata": {},
   "source": [
    "### 2. Initialization\n",
    "After restarting the simulation, the robot needs to be initialized."
   ]
  },
  {
   "cell_type": "code",
   "execution_count": 1,
   "metadata": {},
   "outputs": [],
   "source": [
    "from Pioneer3.Controllers import PioneerRobot\n",
    "import time\n",
    "import math\n",
    "\n",
    "robot = PioneerRobot()"
   ]
  },
  {
   "cell_type": "markdown",
   "metadata": {},
   "source": [
    "### 3. Program\n",
    "\n",
    "The code is structured in three parts:\n",
    "1. The first part is a function for moving forward: you must copy and paste the code of the [distance exercise](Distance.ipynb) inside the body of the function template, in the following cell.\n",
    "2. The second part is a similar function for turning, where you can copy and paste the code of the [angle exercise](Angle.ipynb).\n",
    "3. Finally, the third part is the main code, consisting of a loop that calls the previous functions four times. The code also displays the pose of the robot (position and orientation) before and after the motion."
   ]
  },
  {
   "cell_type": "code",
   "execution_count": 2,
   "metadata": {},
   "outputs": [],
   "source": [
    "def forward():\n",
    "    target = 1000        # target distance\n",
    "    radius = 97.65      # wheel radius\n",
    "    initialLeftEncoder, initialRightEncoder = robot.getEncoders()\n",
    "    distance = 0\n",
    "    while distance < target:\n",
    "        robot.setSpeed(2.5, 2.5)\n",
    "        leftEncoder, rightEncoder = robot.getEncoders()\n",
    "        distance = (leftEncoder - initialLeftEncoder) * radius\n",
    "    robot.stop()"
   ]
  },
  {
   "cell_type": "code",
   "execution_count": 3,
   "metadata": {},
   "outputs": [],
   "source": [
    "def turn():\n",
    "    target = 90*math.pi/180      # target angle in radians\n",
    "    r = 97.65           # wheel radius\n",
    "    L = 330           # axis length\n",
    "    initialLeftEncoder, initialRightEncoder = robot.getEncoders()\n",
    "    robotAngle = 0\n",
    "    while robotAngle < target:\n",
    "        robot.setSpeed(1.0,-1.0)\n",
    "        leftEncoder, rightEncoder = robot.getEncoders()\n",
    "        robotAngle = 2*(leftEncoder - initialLeftEncoder) * r / L\n",
    "    robot.stop()"
   ]
  },
  {
   "cell_type": "code",
   "execution_count": 4,
   "metadata": {},
   "outputs": [
    {
     "name": "stdout",
     "output_type": "stream",
     "text": [
      "Pose of the robot at the start\n",
      "Pose of the robot at the end\n"
     ]
    },
    {
     "data": {
      "text/plain": [
       "(0.037566514187620595, 0.015340907745421515, -0.006144097481952008)"
      ]
     },
     "execution_count": 4,
     "metadata": {},
     "output_type": "execute_result"
    }
   ],
   "source": [
    "print('Pose of the robot at the start')\n",
    "robot.getPose()\n",
    "for _ in range(4):\n",
    "    forward()\n",
    "    turn()\n",
    "print('Pose of the robot at the end')\n",
    "robot.getPose()"
   ]
  },
  {
   "cell_type": "markdown",
   "metadata": {},
   "source": [
    "Next exercise: [Robot Speed](Robot%20Speed.ipynb)"
   ]
  },
  {
   "cell_type": "markdown",
   "metadata": {
    "collapsed": true
   },
   "source": [
    "---\n",
    "#### Try-a-Bot: an open source guide for robot programming\n",
    "Developed by:\n",
    "[![Robotic Intelligence Lab @ UJI](img/logo/robinlab.png \"Robotic Intelligence Lab @ UJI\")](http://robinlab.uji.es)\n",
    "\n",
    "Sponsored by:\n",
    "<table>\n",
    "<tr>\n",
    "<td style=\"border:1px solid #ffffff ;\">\n",
    "<a href=\"http://www.ieee-ras.org\"><img src=\"img/logo/ras.png\"></a>\n",
    "</td>\n",
    "<td style=\"border:1px solid #ffffff ;\">\n",
    "<a href=\"http://www.cyberbotics.com\"><img src=\"img/logo/cyberbotics.png\"></a>\n",
    "</td>\n",
    "<td style=\"border:1px solid #ffffff ;\">\n",
    "<a href=\"http://www.theconstructsim.com\"><img src=\"img/logo/theconstruct.png\"></a>\n",
    "</td>\n",
    "</tr>\n",
    "</table>\n",
    "\n",
    "Follow us:\n",
    "<table>\n",
    "<tr>\n",
    "<td style=\"border:1px solid #ffffff ;\">\n",
    "<a href=\"https://www.facebook.com/RobotProgrammingNetwork\"><img src=\"img/logo/facebook.png\"></a>\n",
    "</td>\n",
    "<td style=\"border:1px solid #ffffff ;\">\n",
    "<a href=\"https://www.youtube.com/user/robotprogrammingnet\"><img src=\"img/logo/youtube.png\"></a>\n",
    "</td>\n",
    "</tr>\n",
    "</table>\n"
   ]
  }
 ],
 "metadata": {
  "kernelspec": {
   "display_name": "Python 3",
   "language": "python",
   "name": "python3"
  },
  "language_info": {
   "codemirror_mode": {
    "name": "ipython",
    "version": 3
   },
   "file_extension": ".py",
   "mimetype": "text/x-python",
   "name": "python",
   "nbconvert_exporter": "python",
   "pygments_lexer": "ipython3",
   "version": "3.8.10"
  }
 },
 "nbformat": 4,
 "nbformat_minor": 1
}
