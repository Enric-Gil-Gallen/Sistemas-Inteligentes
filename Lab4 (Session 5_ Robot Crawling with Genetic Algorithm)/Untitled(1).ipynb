{
 "cells": [
  {
   "cell_type": "code",
   "execution_count": 1,
   "metadata": {},
   "outputs": [],
   "source": [
    "from pyevolve import G1DList\n",
    "from pyevolve import GSimpleGA\n",
    "from pyevolve import Crossovers\n",
    "from pyevolve import Consts\n",
    "from pyevolve import DBAdapters\n",
    "\n",
    "import random\n",
    "import math\n",
    "from math import sqrt\n",
    "from PIL import Image, ImageDraw, ImageFont\n",
    "from Nao import Nao"
   ]
  },
  {
   "cell_type": "code",
   "execution_count": 2,
   "metadata": {},
   "outputs": [],
   "source": [
    "nao = Nao()\n",
    "nao.initCrawling()"
   ]
  },
  {
   "cell_type": "code",
   "execution_count": 3,
   "metadata": {},
   "outputs": [],
   "source": [
    "import math\n",
    "params = [1.28,0.1,0.21,0.,0.035,0.039,-2.,0.12,-0.86,math.pi,\\\n",
    "          0.06,0.33,math.pi/2,0.005,-0.11,-2.,0.008,1.8,0.]\n",
    "\n",
    "minMax = [[0.8, 1.8], [0, 0.5], [-0.5, 0.5], [-3.14, 3.14], [0.2, 0.4],\n",
    "          [-0.1, 0.1], [-3.14, 3.14], [0, 0.4],\n",
    "          [-1.2, 0], [-3.14, 3.14], [0, 0.2], [0, 0.5],\n",
    "          [-3.14, 3.14], [0, 0.1], [-0.5, -0.2], [-3.14, 3.14],\n",
    "           [0, 0.2], [1.6, 1.9], [-3.14, 3.14]]"
   ]
  },
  {
   "cell_type": "code",
   "execution_count": 4,
   "metadata": {},
   "outputs": [],
   "source": [
    "def evalua(params):\n",
    "    i = 0\n",
    "    s_params = []\n",
    "    for v in params:\n",
    "        robot_parameter = v * (minMax[i][0] - minMax[i][1]) + minMax[i][1]\n",
    "        s_params.append(robot_parameter)\n",
    "        i += 1\n",
    "    return nao.crawl(s_params, seconds=5)"
   ]
  },
  {
   "cell_type": "code",
   "execution_count": 5,
   "metadata": {},
   "outputs": [],
   "source": [
    "sqlite_adapter = DBAdapters.DBSQLite(dbname='crawling.db', identify=\"ex1\", resetDB=True)"
   ]
  },
  {
   "cell_type": "code",
   "execution_count": 6,
   "metadata": {},
   "outputs": [
    {
     "name": "stdout",
     "output_type": "stream",
     "text": [
      "Gen. 0 (0.00%): Max/Min/Avg Fitness(Raw)             [0.19(0.33)/0.14(0.05)/0.16(0.16)]\n",
      "Gen. 5 (10.00%): Max/Min/Avg Fitness(Raw)             [0.36(1.16)/0.28(0.00)/0.30(0.30)]\n",
      "Gen. 10 (20.00%): Max/Min/Avg Fitness(Raw)             [0.21(0.60)/0.17(0.05)/0.18(0.18)]\n",
      "Gen. 15 (30.00%): Max/Min/Avg Fitness(Raw)             [0.16(0.34)/0.12(0.04)/0.13(0.13)]\n",
      "\n",
      "\tA break was detected, you have interrupted the evolution !\n",
      "\n",
      "Gen. 16 (32.00%): Max/Min/Avg Fitness(Raw)             [0.28(0.50)/0.20(0.06)/0.23(0.23)]\n",
      "Total time elapsed: 1173.980 seconds.\n"
     ]
    },
    {
     "data": {
      "text/plain": [
       "- GenomeBase\n",
       "\tScore:\t\t\t 0.504198\n",
       "\tFitness:\t\t 0.275956\n",
       "\n",
       "\tParams:\t\t {'rangemin': 0, 'rangemax': 1}\n",
       "\n",
       "\tSlot [Evaluator] (Count: 1)\n",
       "\t\tName: evalua - Weight: 0.50\n",
       "\tSlot [Initializator] (Count: 1)\n",
       "\t\tName: G1DListInitializatorInteger - Weight: 0.50\n",
       "\t\tDoc:  Integer initialization function of G1DList\n",
       "\n",
       "    This initializator accepts the *rangemin* and *rangemax* genome parameters.\n",
       "\n",
       "    \n",
       "\tSlot [Mutator] (Count: 1)\n",
       "\t\tName: G1DListMutatorSwap - Weight: 0.50\n",
       "\t\tDoc:  The mutator of G1DList, Swap Mutator\n",
       "\n",
       "    .. note:: this mutator is :term:`Data Type Independent`\n",
       "\n",
       "    \n",
       "\tSlot [Crossover] (Count: 1)\n",
       "\t\tName: G1DListCrossoverSinglePoint - Weight: 0.50\n",
       "\t\tDoc:  The crossover of G1DList, Single Point\n",
       "\n",
       "    .. warning:: You can't use this crossover method for lists with just one element.\n",
       "\n",
       "    \n",
       "\n",
       "- G1DList\n",
       "\tList size:\t 19\n",
       "\tList:\t\t [1, 1, 0, 1, 1, 0, 1, 0, 1, 0, 0, 1, 1, 1, 0, 0, 0, 1, 0]\n"
      ]
     },
     "execution_count": 6,
     "metadata": {},
     "output_type": "execute_result"
    }
   ],
   "source": [
    "genome = G1DList.G1DList(19)\n",
    "genome.evaluator.set(evalua)\n",
    "genome.setParams(rangemin=0, rangemax=1)\n",
    "ga = GSimpleGA.GSimpleGA(genome)\n",
    "ga.setDBAdapter(sqlite_adapter)\n",
    "ga.setGenerations(50)\n",
    "ga.setPopulationSize(10)\n",
    "ga.setMutationRate(0.5)\n",
    "ga.setCrossoverRate(0.8)\n",
    "ga.evolve(freq_stats=5)\n"
   ]
  },
  {
   "cell_type": "code",
   "execution_count": null,
   "metadata": {},
   "outputs": [],
   "source": []
  }
 ],
 "metadata": {
  "kernelspec": {
   "display_name": "Python 3",
   "language": "python",
   "name": "python3"
  },
  "language_info": {
   "codemirror_mode": {
    "name": "ipython",
    "version": 3
   },
   "file_extension": ".py",
   "mimetype": "text/x-python",
   "name": "python",
   "nbconvert_exporter": "python",
   "pygments_lexer": "ipython3",
   "version": "3.8.10"
  }
 },
 "nbformat": 4,
 "nbformat_minor": 4
}
