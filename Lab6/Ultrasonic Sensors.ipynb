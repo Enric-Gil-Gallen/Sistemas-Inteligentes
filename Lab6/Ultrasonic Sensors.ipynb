{
 "cells": [
  {
   "cell_type": "markdown",
   "metadata": {},
   "source": [
    "[<img align=\"right\" src=\"img/sonar_sensors.png\" />](https://www.generationrobots.com/en/content/65-ultrasonic-sonar-sensors-for-robots)\n",
    "# Ultrasonic Sensors\n",
    "Ultrasonic sensors work by measuring the return time of a high-frequency sound wave emitted by the sensor (over 20,000 Hz, which is therefore inaudible to humans). As the speed of sound is essentially known, the obstacle’s distance can then be deduced.\n",
    "\n",
    "The distance $d$ of the object causing the reflection is:\n",
    "\n",
    "$$ d = \\frac{c \\cdot t}{2} $$\n",
    "\n",
    "where $c$ is the speed of the sound (343 m/s in air at standard pressure and 20ºC) and $t$ is the time of flight."
   ]
  },
  {
   "cell_type": "markdown",
   "metadata": {},
   "source": [
    "The Pioneer 3-DX robot includes 8 forward-facing ultrasonic sensors, and 8 optional rear-facing sonar for distance measurements. In the simulations of this course, we are going to use only the forward-facing set of sensors."
   ]
  },
  {
   "cell_type": "code",
   "execution_count": 1,
   "metadata": {},
   "outputs": [],
   "source": [
    "from Pioneer3.Controllers import PioneerRobot\n",
    "\n",
    "robot = PioneerRobot()"
   ]
  },
  {
   "cell_type": "markdown",
   "metadata": {},
   "source": [
    "The values of the measurements are stored in an array:"
   ]
  },
  {
   "cell_type": "code",
   "execution_count": 2,
   "metadata": {},
   "outputs": [
    {
     "data": {
      "text/plain": [
       "[4.936600304989039,\n",
       " 5.030171142748645,\n",
       " 5.0089111378145725,\n",
       " 5.062824647548446,\n",
       " 4.985200880378311,\n",
       " 5.085525288170986,\n",
       " 4.997281894812663,\n",
       " 4.974121150293528]"
      ]
     },
     "execution_count": 2,
     "metadata": {},
     "output_type": "execute_result"
    }
   ],
   "source": [
    "distance = robot.getSonar()\n",
    "distance"
   ]
  },
  {
   "cell_type": "markdown",
   "metadata": {},
   "source": [
    "[<img align=\"right\" src=\"img/front_sonar.png\" />](https://www.cyberbotics.com/doc/guide/using-the-pioneer-3-at-and-pioneer-3-dx-robots)\n",
    "The sensors are numbered from 0 to 7 starting from the left side of the robot, in clockwise order (see the figure).\n",
    "\n",
    "Each measurement can be read individually with the appropriate index in the array, e.g. the first measurement is\n",
    "\n",
    "`distance[0]`\n",
    "\n",
    "The following code uses a `for` loop for displaying the values of the eight sensors with a precision of three digits. Even if the robot is not moving, the values are likely to be different from those measured above, because of the (simulated) noise in the readings."
   ]
  },
  {
   "cell_type": "code",
   "execution_count": 3,
   "metadata": {},
   "outputs": [
    {
     "name": "stdout",
     "output_type": "stream",
     "text": [
      "so0: 4.958 m\n",
      "so1: 5.017 m\n",
      "so2: 5.010 m\n",
      "so3: 5.041 m\n",
      "so4: 4.953 m\n",
      "so5: 4.978 m\n",
      "so6: 5.065 m\n",
      "so7: 5.020 m\n"
     ]
    }
   ],
   "source": [
    "distance = robot.getSonar()\n",
    "for i in range(8):\n",
    "    print(\"so%d: %.3f m\" % (i, distance[i]))"
   ]
  },
  {
   "cell_type": "markdown",
   "metadata": {},
   "source": [
    "Let's test the sensors in a first simple application: [detecting obstacles](Detecting%20Obstacles.ipynb)."
   ]
  },
  {
   "cell_type": "markdown",
   "metadata": {
    "collapsed": true
   },
   "source": [
    "---\n",
    "#### Try-a-Bot: an open source guide for robot programming\n",
    "Developed by:\n",
    "[![Robotic Intelligence Lab @ UJI](img/logo/robinlab.png \"Robotic Intelligence Lab @ UJI\")](http://robinlab.uji.es)\n",
    "\n",
    "Sponsored by:\n",
    "<table>\n",
    "<tr>\n",
    "<td style=\"border:1px solid #ffffff ;\">\n",
    "<a href=\"http://www.ieee-ras.org\"><img src=\"img/logo/ras.png\"></a>\n",
    "</td>\n",
    "<td style=\"border:1px solid #ffffff ;\">\n",
    "<a href=\"http://www.cyberbotics.com\"><img src=\"img/logo/cyberbotics.png\"></a>\n",
    "</td>\n",
    "<td style=\"border:1px solid #ffffff ;\">\n",
    "<a href=\"http://www.theconstructsim.com\"><img src=\"img/logo/theconstruct.png\"></a>\n",
    "</td>\n",
    "</tr>\n",
    "</table>\n",
    "\n",
    "Follow us:\n",
    "<table>\n",
    "<tr>\n",
    "<td style=\"border:1px solid #ffffff ;\">\n",
    "<a href=\"https://www.facebook.com/RobotProgrammingNetwork\"><img src=\"img/logo/facebook.png\"></a>\n",
    "</td>\n",
    "<td style=\"border:1px solid #ffffff ;\">\n",
    "<a href=\"https://www.youtube.com/user/robotprogrammingnet\"><img src=\"img/logo/youtube.png\"></a>\n",
    "</td>\n",
    "</tr>\n",
    "</table>\n"
   ]
  }
 ],
 "metadata": {
  "kernelspec": {
   "display_name": "Python 3",
   "language": "python",
   "name": "python3"
  },
  "language_info": {
   "codemirror_mode": {
    "name": "ipython",
    "version": 3
   },
   "file_extension": ".py",
   "mimetype": "text/x-python",
   "name": "python",
   "nbconvert_exporter": "python",
   "pygments_lexer": "ipython3",
   "version": "3.8.10"
  }
 },
 "nbformat": 4,
 "nbformat_minor": 1
}
