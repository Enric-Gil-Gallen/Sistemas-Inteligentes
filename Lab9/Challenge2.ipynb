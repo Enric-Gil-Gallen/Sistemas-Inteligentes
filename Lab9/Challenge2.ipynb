{
 "cells": [
  {
   "cell_type": "code",
   "execution_count": 1,
   "metadata": {},
   "outputs": [],
   "source": [
    "from Pioneer3.Controllers import PioneerRobot\n",
    "\n",
    "robot = PioneerRobot()"
   ]
  },
  {
   "cell_type": "code",
   "execution_count": null,
   "metadata": {},
   "outputs": [],
   "source": []
  },
  {
   "cell_type": "code",
   "execution_count": 2,
   "metadata": {},
   "outputs": [],
   "source": [
    "import cv2\n",
    "import numpy\n",
    "import time\n",
    "\n",
    "\n",
    "def color_blob(image):\n",
    "    hsv = cv2.cvtColor(image, cv2.COLOR_RGB2HSV)\n",
    "    mask = cv2.inRange(hsv, lower, upper)\n",
    "    M = cv2.moments(mask)\n",
    "    area = M['m00']\n",
    "    if area > 0:\n",
    "        cx = int(M['m10']/area)\n",
    "        cy = int(M['m01']/area)\n",
    "    else:\n",
    "        cx = None\n",
    "        cy = None\n",
    "    return area, cx, cy"
   ]
  },
  {
   "cell_type": "code",
   "execution_count": 3,
   "metadata": {},
   "outputs": [],
   "source": [
    "def is_blob_centered(image):\n",
    "    area, cx, cy = color_blob(image)\n",
    "    if area > 0 and cx >= 130 and cx < 145:\n",
    "        return True\n",
    "    else:\n",
    "        return False"
   ]
  },
  {
   "cell_type": "code",
   "execution_count": 4,
   "metadata": {},
   "outputs": [],
   "source": [
    "def is_blob_close(image, vertical_threshold):\n",
    "    area, cx, cy = color_blob(image)\n",
    "    if area > 0 and cy >= vertical_threshold:\n",
    "        return True\n",
    "    else:\n",
    "        return False"
   ]
  },
  {
   "cell_type": "code",
   "execution_count": 5,
   "metadata": {},
   "outputs": [],
   "source": [
    "def is_obstacle_detected():\n",
    "    distance = robot.getSonar()\n",
    "    return distance[3] < 0.45 or distance[4] < 0.45"
   ]
  },
  {
   "cell_type": "code",
   "execution_count": 6,
   "metadata": {},
   "outputs": [],
   "source": [
    "def line_centroid():\n",
    "    image = robot.kinect.getColorImage()\n",
    "    hsv = cv2.cvtColor(image, cv2.COLOR_RGB2HSV)\n",
    "    lower_cyan = numpy.array([140, 25, 40])\n",
    "    upper_cyan = numpy.array([170, 255, 255])\n",
    "    mask = cv2.inRange(hsv, lower_cyan, upper_cyan)\n",
    "    \n",
    "    mask[0:0, 0:300] = 0\n",
    "    M = cv2.moments(mask)\n",
    "    cx = int(M['m10']/M['m00'])\n",
    "    cy = int(M['m01']/M['m00'])\n",
    "    return cx, cy"
   ]
  },
  {
   "cell_type": "code",
   "execution_count": 7,
   "metadata": {},
   "outputs": [],
   "source": [
    "def move(V_robot,w_robot):\n",
    "    r = 0.1953 / 2\n",
    "    L = 0.33\n",
    "    w_r = (2 * V_robot + L * w_robot) / (2*r)\n",
    "    w_l = (2 * V_robot - L * w_robot) / (2*r)\n",
    "    robot.setSpeed(w_l, w_r)"
   ]
  },
  {
   "cell_type": "code",
   "execution_count": 8,
   "metadata": {},
   "outputs": [],
   "source": [
    "def follow_line():\n",
    "    print('Following the line')\n",
    "    width = 300\n",
    "    while not is_obstacle_detected():\n",
    "        cx, cy = line_centroid()\n",
    "        err = cx - (width/2)\n",
    "        linear = 0.2\n",
    "        angular = -0.01*err\n",
    "        move(linear, angular)\n",
    "    print('Obstacle detected')"
   ]
  },
  {
   "cell_type": "code",
   "execution_count": 9,
   "metadata": {},
   "outputs": [],
   "source": [
    "def getWall():\n",
    "    distance = robot.getSonar()\n",
    "    leftSide = min(distance[0:3])\n",
    "    frontSide = min(distance[3:5])\n",
    "    while frontSide > 0.3:       \n",
    "        move(0.2,0)\n",
    "        distance = robot.getSonar()\n",
    "        leftSide = min(distance[0:3])\n",
    "        frontSide = min(distance[3:5])\n",
    "        \n",
    "    sensor0 = robot.getSonar()[0]\n",
    "    while sensor0 > 0.45:\n",
    "        if frontSide < leftSide:\n",
    "            v = -0.15 * 3\n",
    "        else:\n",
    "            v = -0.15\n",
    "        sensor0 = robot.getSonar()[0]\n",
    "        move(0,v)\n",
    "        distance = robot.getSonar()\n",
    "        leftSide = min(distance[0:3])\n",
    "        frontSide = min(distance[3:5])\n",
    "    move(0,0)"
   ]
  },
  {
   "cell_type": "code",
   "execution_count": 10,
   "metadata": {},
   "outputs": [],
   "source": [
    "def forward():\n",
    "    distance = robot.getSonar()\n",
    "    min_iz = min(distance[0:3])\n",
    "    min_der = min(distance[5:])\n",
    "    while distance[3] > 1 and distance[4] > 1 and min_iz > 1 and min_der > 1:\n",
    "        robot.setSpeed(10, 10)\n",
    "        distance = robot.getSonar()\n",
    "        min_iz = min(distance[0:3])\n",
    "        min_der = min(distance[5:])"
   ]
  },
  {
   "cell_type": "code",
   "execution_count": 11,
   "metadata": {},
   "outputs": [],
   "source": [
    "def is_line_detected():\n",
    "    image = robot.kinect.getColorImage()\n",
    "    hsv = cv2.cvtColor(image, cv2.COLOR_RGB2HSV)\n",
    "    lower_cyan = numpy.array([140, 25, 40])\n",
    "    upper_cyan = numpy.array([170, 255, 255])\n",
    "    mask = cv2.inRange(hsv, lower_cyan, upper_cyan)\n",
    "    mask[0:0, 0:300] = 0\n",
    "    M = cv2.moments(mask)\n",
    "    if M['m00'] == 0:\n",
    "        return False\n",
    "    return True"
   ]
  },
  {
   "cell_type": "code",
   "execution_count": 12,
   "metadata": {},
   "outputs": [],
   "source": [
    "def follow_wall():\n",
    "    print('Following the wall')\n",
    "    while not is_line_detected():\n",
    "        distance = robot.getSonar()\n",
    "        leftSide = min(distance[0:3])\n",
    "        frontSide = min(distance[3:5])\n",
    "        vx = 0.2\n",
    "        v = 0.15\n",
    "        if frontSide < 0.45:\n",
    "            vx = -0.1\n",
    "            v = -0.2 * 4\n",
    "            \n",
    "        else:\n",
    "            if leftSide > 0.45:\n",
    "                vx  = 0.2*0.5\n",
    "                v = 0.2\n",
    "            else:\n",
    "                if leftSide < 0.45:\n",
    "                    vx  = 0.2*0.5\n",
    "                    v = -0.2\n",
    "        move(vx,v)\n",
    "    print('Line detected')\n",
    "    move(0,0)"
   ]
  },
  {
   "cell_type": "code",
   "execution_count": 13,
   "metadata": {},
   "outputs": [],
   "source": [
    "def getLine():\n",
    "    cx, cy = line_centroid()\n",
    "    err = cx - (300 / 2)\n",
    "    while abs(err) >= 15:\n",
    "        linear = 0.2\n",
    "        if err > 0:\n",
    "            angular = -0.1\n",
    "        else:\n",
    "            angular = 0.1\n",
    "        move(linear, angular)\n",
    "        cx, cy = line_centroid()\n",
    "        err = cx - (300 / 2)"
   ]
  },
  {
   "cell_type": "code",
   "execution_count": 14,
   "metadata": {},
   "outputs": [],
   "source": [
    "def is_blob_centered_target(image):\n",
    "    area, cx, cy = color_blob(image)\n",
    "    if area > 0 and cx >= 120 and cx < 130:\n",
    "        return True\n",
    "    else:\n",
    "        return False"
   ]
  },
  {
   "cell_type": "code",
   "execution_count": 15,
   "metadata": {},
   "outputs": [],
   "source": [
    "def recogerBolas(image):\n",
    "    time.sleep(2)\n",
    "    #Recoger bolas\n",
    "    robot.gripper.open()\n",
    "    time.sleep(2)\n",
    "    robot.gripper.down()\n",
    "    robot.kinect.setTiltPosition(0.05) # tilt down the Kinect    \n",
    "    \n",
    "    while not is_blob_centered(image):\n",
    "        robot.setSpeed(-0.5,0.5)\n",
    "        image = robot.kinect.getColorImage()\n",
    "    robot.stop()\n",
    "    \n",
    "    while not is_blob_close(image, 155):\n",
    "        robot.setSpeed(1.0,1.0)\n",
    "        image = robot.kinect.getColorImage()\n",
    "    robot.stop()\n",
    "    \n",
    "    while not is_blob_centered(image):\n",
    "        robot.setSpeed(-0.5,0.5)\n",
    "        image = robot.kinect.getColorImage()\n",
    "    robot.stop()\n",
    "    \n",
    "    robot.kinect.setTiltPosition(-0.35) # tilt down the Kinect\n",
    "    time.sleep(2)\n",
    "    \n"
   ]
  },
  {
   "cell_type": "code",
   "execution_count": 16,
   "metadata": {},
   "outputs": [],
   "source": [
    "def aproximarYAgarrar(image):\n",
    "        #Funcion para aproximar y agarrar\n",
    "    while not is_blob_close(image, 156):\n",
    "        robot.setSpeed(0.5,0.5)\n",
    "        image = robot.kinect.getColorImage()\n",
    "    robot.stop()\n",
    "    time.sleep(2)\n",
    "    \n",
    "    robot.gripper.open()\n",
    "    time.sleep(2)\n",
    "    robot.gripper.down()\n",
    "    time.sleep(2)\n",
    "    robot.gripper.close()\n",
    "    time.sleep(2)\n",
    "    robot.gripper.up()\n",
    "    time.sleep(2)\n",
    "    robot.kinect.setTiltPosition(0.05) # tilt down the Kinect\n",
    "    time.sleep(1)\n",
    "    "
   ]
  },
  {
   "cell_type": "code",
   "execution_count": 17,
   "metadata": {},
   "outputs": [],
   "source": [
    "def irAlSitio(image):\n",
    "    while not is_blob_centered_target(image):\n",
    "        robot.setSpeed(-0.5,0.5)\n",
    "        image = robot.kinect.getColorImage()\n",
    "    robot.stop()\n",
    "    \n",
    "    time.sleep(2)\n",
    "\n",
    "    while not is_blob_close(image, 150):\n",
    "        robot.setSpeed(1.0,1.0)\n",
    "        image = robot.kinect.getColorImage()\n",
    "    robot.stop()\n",
    "    time.sleep(2)"
   ]
  },
  {
   "cell_type": "code",
   "execution_count": 18,
   "metadata": {},
   "outputs": [],
   "source": [
    "def dejarBola():\n",
    "    robot.gripper.down()\n",
    "    time.sleep(2)\n",
    "    robot.gripper.open()\n",
    "    time.sleep(2)\n",
    "    #Marcha atrás\n",
    "    robot.setSpeed(-1.0,-1.0)\n",
    "    time.sleep(10)\n",
    "    robot.stop()\n",
    "    #Giro\n",
    "    robot.setSpeed(-1.0,0)\n",
    "    time.sleep(3)\n",
    "    robot.stop()"
   ]
  },
  {
   "cell_type": "code",
   "execution_count": 19,
   "metadata": {},
   "outputs": [],
   "source": [
    "lower = numpy.array([140, 25, 40])\n",
    "upper = numpy.array([170, 255, 255])"
   ]
  },
  {
   "cell_type": "code",
   "execution_count": 20,
   "metadata": {},
   "outputs": [],
   "source": [
    "robot.kinect.setTiltPosition(-0.35) # tilt down the Kinect"
   ]
  },
  {
   "cell_type": "code",
   "execution_count": 21,
   "metadata": {},
   "outputs": [
    {
     "name": "stdout",
     "output_type": "stream",
     "text": [
      "Following the line\n",
      "Obstacle detected\n",
      "Following the wall\n",
      "Line detected\n",
      "Following the line\n"
     ]
    }
   ],
   "source": [
    "def loop():\n",
    "    try:\n",
    "        while True:\n",
    "            follow_line()\n",
    "            getWall()\n",
    "            follow_wall()\n",
    "            getLine()\n",
    "    except ZeroDivisionError:\n",
    "        move(0,0)\n",
    "loop()"
   ]
  },
  {
   "cell_type": "code",
   "execution_count": null,
   "metadata": {},
   "outputs": [],
   "source": [
    "veces = 0\n",
    "image = robot.kinect.getColorImage()\n",
    "while veces < 5:\n",
    "    lower = numpy.array([110, 100, 100])\n",
    "    upper = numpy.array([130, 255, 255])\n",
    "    recogerBolas(image)\n",
    "    time.sleep(1)\n",
    "    aproximarYAgarrar(image)\n",
    "    time.sleep(1)\n",
    "    lower = numpy.array([ 50, 100, 100])\n",
    "    upper = numpy.array([ 70, 255, 255])\n",
    "    irAlSitio(image)\n",
    "    time.sleep(1)\n",
    "    dejarBola()\n",
    "    veces += 1"
   ]
  },
  {
   "cell_type": "code",
   "execution_count": null,
   "metadata": {},
   "outputs": [],
   "source": [
    "\n"
   ]
  },
  {
   "cell_type": "code",
   "execution_count": null,
   "metadata": {},
   "outputs": [],
   "source": []
  },
  {
   "cell_type": "code",
   "execution_count": null,
   "metadata": {},
   "outputs": [],
   "source": []
  },
  {
   "cell_type": "code",
   "execution_count": null,
   "metadata": {},
   "outputs": [],
   "source": []
  },
  {
   "cell_type": "code",
   "execution_count": null,
   "metadata": {},
   "outputs": [],
   "source": []
  },
  {
   "cell_type": "code",
   "execution_count": null,
   "metadata": {},
   "outputs": [],
   "source": []
  },
  {
   "cell_type": "code",
   "execution_count": null,
   "metadata": {},
   "outputs": [],
   "source": []
  },
  {
   "cell_type": "code",
   "execution_count": null,
   "metadata": {},
   "outputs": [],
   "source": []
  },
  {
   "cell_type": "code",
   "execution_count": null,
   "metadata": {},
   "outputs": [],
   "source": []
  },
  {
   "cell_type": "code",
   "execution_count": null,
   "metadata": {},
   "outputs": [],
   "source": []
  },
  {
   "cell_type": "code",
   "execution_count": null,
   "metadata": {},
   "outputs": [],
   "source": []
  },
  {
   "cell_type": "code",
   "execution_count": null,
   "metadata": {},
   "outputs": [],
   "source": []
  },
  {
   "cell_type": "code",
   "execution_count": null,
   "metadata": {},
   "outputs": [],
   "source": []
  },
  {
   "cell_type": "code",
   "execution_count": null,
   "metadata": {},
   "outputs": [],
   "source": []
  },
  {
   "cell_type": "code",
   "execution_count": null,
   "metadata": {},
   "outputs": [],
   "source": []
  },
  {
   "cell_type": "code",
   "execution_count": null,
   "metadata": {},
   "outputs": [],
   "source": []
  },
  {
   "cell_type": "code",
   "execution_count": null,
   "metadata": {},
   "outputs": [],
   "source": []
  },
  {
   "cell_type": "code",
   "execution_count": 34,
   "metadata": {},
   "outputs": [],
   "source": []
  },
  {
   "cell_type": "code",
   "execution_count": 18,
   "metadata": {},
   "outputs": [],
   "source": []
  },
  {
   "cell_type": "code",
   "execution_count": 36,
   "metadata": {},
   "outputs": [],
   "source": []
  },
  {
   "cell_type": "code",
   "execution_count": 37,
   "metadata": {},
   "outputs": [],
   "source": []
  },
  {
   "cell_type": "code",
   "execution_count": 38,
   "metadata": {},
   "outputs": [],
   "source": []
  },
  {
   "cell_type": "code",
   "execution_count": 39,
   "metadata": {},
   "outputs": [],
   "source": []
  },
  {
   "cell_type": "code",
   "execution_count": 19,
   "metadata": {},
   "outputs": [],
   "source": []
  },
  {
   "cell_type": "code",
   "execution_count": 40,
   "metadata": {},
   "outputs": [],
   "source": []
  },
  {
   "cell_type": "code",
   "execution_count": 43,
   "metadata": {},
   "outputs": [],
   "source": []
  },
  {
   "cell_type": "code",
   "execution_count": 44,
   "metadata": {},
   "outputs": [],
   "source": []
  },
  {
   "cell_type": "code",
   "execution_count": 45,
   "metadata": {},
   "outputs": [],
   "source": []
  },
  {
   "cell_type": "code",
   "execution_count": 20,
   "metadata": {},
   "outputs": [],
   "source": []
  },
  {
   "cell_type": "code",
   "execution_count": 21,
   "metadata": {},
   "outputs": [],
   "source": []
  },
  {
   "cell_type": "code",
   "execution_count": 22,
   "metadata": {},
   "outputs": [],
   "source": []
  },
  {
   "cell_type": "code",
   "execution_count": null,
   "metadata": {},
   "outputs": [],
   "source": []
  },
  {
   "cell_type": "code",
   "execution_count": null,
   "metadata": {},
   "outputs": [],
   "source": []
  }
 ],
 "metadata": {
  "kernelspec": {
   "display_name": "Python 3",
   "language": "python",
   "name": "python3"
  },
  "language_info": {
   "codemirror_mode": {
    "name": "ipython",
    "version": 3
   },
   "file_extension": ".py",
   "mimetype": "text/x-python",
   "name": "python",
   "nbconvert_exporter": "python",
   "pygments_lexer": "ipython3",
   "version": "3.8.10"
  }
 },
 "nbformat": 4,
 "nbformat_minor": 4
}
